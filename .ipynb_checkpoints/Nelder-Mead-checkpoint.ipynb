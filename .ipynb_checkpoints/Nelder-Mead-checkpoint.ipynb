{
 "cells": [
  {
   "cell_type": "markdown",
   "id": "8e05bba0",
   "metadata": {},
   "source": [
    "# Nelder-Mead algorithm\n",
    "Реализация метода Нелдера — Мида и оптимизация функции $f(x, y)$с его помощью\\\n",
    "$$f(x, y)=  \\sin(y)e^{(1−cos(x))^2} + \\cos(x)e^{(1−sin(y))^2} + (x − y)^2$$"
   ]
  },
  {
   "cell_type": "code",
   "execution_count": 1,
   "id": "ed84abb4",
   "metadata": {},
   "outputs": [],
   "source": [
    "import numpy as np"
   ]
  },
  {
   "cell_type": "code",
   "execution_count": 2,
   "id": "4eef8ea5",
   "metadata": {},
   "outputs": [],
   "source": [
    "class Nelder_Mead_solver:\n",
    "    def __init__(self, alpha=1, beta=0.5, gamma=2):\n",
    "        self.alpha = alpha\n",
    "        self.beta = beta\n",
    "        self.gamma = gamma\n",
    "        \n",
    "    def solve(self, x_start, eps, func):\n",
    "        n = len(x_start) - 1\n",
    "        x = np.copy(x_start)\n",
    "        values = list()\n",
    "        for el in x_start:\n",
    "            values.append([np.array(el), func(el)])\n",
    "        \n",
    "        \n",
    "        iters = 0\n",
    "        prev = x[0]\n",
    "        \n",
    "        while True:\n",
    "            values.sort(key=lambda x: x[1])\n",
    "            iters += 1\n",
    "            if iters > 1 and np.linalg.norm(values[2][0] - prev, ord=2) < eps:\n",
    "                return values[0][0]\n",
    "                \n",
    "            x_h = values[2][0]\n",
    "            f_h = values[2][1]\n",
    "            x_g = values[1][0]\n",
    "            f_g = values[1][1]\n",
    "            x_l = values[0][0]\n",
    "            f_l = values[0][1]\n",
    "            \n",
    "            prev = x_h\n",
    "            \n",
    "            x_c = (x_g + x_l) / 2\n",
    "            x_r = (1 + self.alpha) * x_c - self.alpha * x_h\n",
    "            f_r = func(x_r)\n",
    "            \n",
    "            if f_r <= f_l:\n",
    "                x_e = (1 - self.gamma)*x_c + self.gamma*x_r\n",
    "                f_e = func(x_e)\n",
    "                if f_e < f_r:\n",
    "                    values[2][0] = x_e\n",
    "                    values[2][1] = f_e\n",
    "                else:\n",
    "                    values[2][0] = x_r\n",
    "                    values[2][1] = f_r\n",
    "                continue\n",
    "            \n",
    "            if f_l < f_r <= f_g:\n",
    "                values[2][0] = x_r\n",
    "                values[2][1] = f_r\n",
    "                continue\n",
    "            \n",
    "            if f_g < f_r <= f_h:\n",
    "                values[2][0] = x_r\n",
    "                values[2][1] = f_r\n",
    "                x_r, x_h = x_h, x_r\n",
    "                f_r, f_h = f_h, f_r\n",
    "            \n",
    "            x_s = self.beta * x_h + (1 - self.beta) * x_c\n",
    "            f_s = func(x_s)\n",
    "            \n",
    "            if f_s <= f_h:\n",
    "                values[2][0] = x_s\n",
    "                values[2][1] = f_s\n",
    "            else:\n",
    "                for i in range(1, n + 1):\n",
    "                    values[i][0] = x_l + (values[i][0] - x_l) / 2\n",
    "                    values[i][1] = func(values[i][0])\n",
    "            \n",
    "            \n",
    "def sample_function(params):\n",
    "    x = params[0]\n",
    "    y = params[1]\n",
    "    return np.sin(y) * np.exp((1 - np.cos(x)**2)) + np.cos(x) * np.exp((1 - np.sin(y))**2) + (x - y)**2\n",
    "            \n",
    "            "
   ]
  },
  {
   "cell_type": "code",
   "execution_count": 3,
   "id": "88e566cb",
   "metadata": {},
   "outputs": [
    {
     "name": "stdout",
     "output_type": "stream",
     "text": [
      "Результат метода: [3.19868494 4.69868756], значение функции: -53.24189007390883\n",
      "\n",
      "Результат питоновской библиотеки:\n"
     ]
    },
    {
     "data": {
      "text/plain": [
       " final_simplex: (array([[3.19867903, 4.6986934 ],\n",
       "       [3.19859552, 4.69868028],\n",
       "       [3.19871924, 4.69863419]]), array([-53.24189007, -53.24188985, -53.24188974]))\n",
       "           fun: -53.24189006776969\n",
       "       message: 'Optimization terminated successfully.'\n",
       "          nfev: 77\n",
       "           nit: 39\n",
       "        status: 0\n",
       "       success: True\n",
       "             x: array([3.19867903, 4.6986934 ])"
      ]
     },
     "execution_count": 3,
     "metadata": {},
     "output_type": "execute_result"
    }
   ],
   "source": [
    "solver = Nelder_Mead_solver()\n",
    "x_start = [[2, 2], [10, 1], [1, 8]]\n",
    "optimum = solver.solve(x_start, 10**-5, sample_function)\n",
    "print(f'Результат метода: {optimum}, значение функции: {sample_function(optimum)}\\n')\n",
    "\n",
    "print('Результат питоновской библиотеки:')\n",
    "import scipy.optimize\n",
    "scipy.optimize.minimize(sample_function, [0, 0] , method='Nelder-Mead', \n",
    "                        options={'initial_simplex': x_start})"
   ]
  },
  {
   "cell_type": "markdown",
   "id": "53c6b88d",
   "metadata": {},
   "source": [
    "Покажем что в зависимости от начальных точек, могут получиться разные ответы алгоритма:"
   ]
  },
  {
   "cell_type": "code",
   "execution_count": 4,
   "id": "7bdb928d",
   "metadata": {},
   "outputs": [
    {
     "name": "stdout",
     "output_type": "stream",
     "text": [
      "Результат №1 метода: [3.19868494 4.69868756], значение функции: -53.24189007390883\n",
      "Результат №2 метода: [2.27869793 1.72130207], значение функции: 1.421253019123029\n",
      "Результат №3 метода: [ 9.48187166 10.98187351], значение функции: -53.241890073728634\n"
     ]
    }
   ],
   "source": [
    "solver = Nelder_Mead_solver()\n",
    "x_start_1 = [[2, 2], [10, 1], [1, 8]]\n",
    "optimum_1 = solver.solve(x_start_1, 10**-5, sample_function)\n",
    "x_start_2 = [[2, 2], [3, 1], [1, 3]]\n",
    "optimum_2 = solver.solve(x_start_2, 10**-5, sample_function)\n",
    "x_start_3 = [[5, 4], [6, 12], [10, 7]]\n",
    "optimum_3 = solver.solve(x_start_3, 10**-5, sample_function)\n",
    "print(f'Результат №1 метода: {optimum_1}, значение функции: {sample_function(optimum_1)}')\n",
    "print(f'Результат №2 метода: {optimum_2}, значение функции: {sample_function(optimum_2)}')\n",
    "print(f'Результат №3 метода: {optimum_3}, значение функции: {sample_function(optimum_3)}')"
   ]
  },
  {
   "cell_type": "markdown",
   "id": "053722c9",
   "metadata": {},
   "source": [
    "Теперь покажем, что в зависимости от разных гиперпараметров могут получаться разные ответы:"
   ]
  },
  {
   "cell_type": "code",
   "execution_count": 5,
   "id": "56468093",
   "metadata": {},
   "outputs": [
    {
     "name": "stdout",
     "output_type": "stream",
     "text": [
      "Результат №1 метода: [3.19868769 4.69868922], значение функции: -53.24189007316427\n",
      "Результат №2 метода: [ 2.9690018  -1.52901074], значение функции: -34.39647664948703\n"
     ]
    }
   ],
   "source": [
    "solver1 = Nelder_Mead_solver()\n",
    "x_start = [[1, 1], [6, 12], [10, 7]]\n",
    "optimum_1 = solver1.solve(x_start, 10**-5, sample_function)\n",
    "solver2 = Nelder_Mead_solver(alpha=1.7, beta=0.7, gamma=2)\n",
    "optimum_2 = solver2.solve(x_start, 10**-5, sample_function)\n",
    "print(f'Результат №1 метода: {optimum_1}, значение функции: {sample_function(optimum_1)}')\n",
    "print(f'Результат №2 метода: {optimum_2}, значение функции: {sample_function(optimum_2)}')"
   ]
  }
 ],
 "metadata": {
  "kernelspec": {
   "display_name": "Python 3 (ipykernel)",
   "language": "python",
   "name": "python3"
  },
  "language_info": {
   "codemirror_mode": {
    "name": "ipython",
    "version": 3
   },
   "file_extension": ".py",
   "mimetype": "text/x-python",
   "name": "python",
   "nbconvert_exporter": "python",
   "pygments_lexer": "ipython3",
   "version": "3.8.10"
  }
 },
 "nbformat": 4,
 "nbformat_minor": 5
}
